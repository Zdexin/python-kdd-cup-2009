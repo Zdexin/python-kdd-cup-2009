{
 "cells": [
  {
   "cell_type": "code",
   "execution_count": 1,
   "metadata": {},
   "outputs": [],
   "source": [
    "import pandas as pd\n",
    "\n",
    "from sklearn import metrics\n",
    "from sklearn.model_selection import GridSearchCV\n",
    "from xgboost import XGBClassifier\n",
    "\n",
    "X_data = pd.read_table('data/orange_small_train.data', sep='\\t')\n",
    "X_data.fillna(0, inplace=True)\n",
    "obj_columns = X_data.select_dtypes(include=['object']).columns\n",
    "X_data[obj_columns] = X_data[obj_columns].astype('category').apply(lambda x: x.cat.codes)\n",
    "\n",
    "#X_train, X_test, y_train, y_test = train_test_split(X_data, y_data, test_size=0.3, random_state=1)"
   ]
  },
  {
   "cell_type": "code",
   "execution_count": 2,
   "metadata": {},
   "outputs": [],
   "source": [
    "def gsearch(X_data, y_data):\n",
    "    param_grid = {\n",
    "        'max_depth': [3],\n",
    "        'n_estimators': [100],\n",
    "        'nthread': [8],\n",
    "        'subsample': [0.9, 1.0],\n",
    "        'gamma': [0, 0.001, 0.01, 0.1]\n",
    "    }\n",
    "\n",
    "    grid = GridSearchCV(XGBClassifier(), param_grid, refit=True, verbose=3, scoring='roc_auc', n_jobs=4)\n",
    "    grid.fit(X_data, y_data.values.ravel())\n",
    "    \n",
    "    print('Params', grid.best_params_)\n",
    "    print('Score', grid.best_score_)\n",
    "\n",
    "    return grid"
   ]
  },
  {
   "cell_type": "code",
   "execution_count": 3,
   "metadata": {},
   "outputs": [
    {
     "name": "stderr",
     "output_type": "stream",
     "text": [
      "C:\\Users\\Vaux Gomes\\AppData\\Local\\Programs\\Python\\Python36\\lib\\site-packages\\sklearn\\model_selection\\_split.py:2053: FutureWarning: You should specify a value for 'cv' instead of relying on the default value. The default value will change from 3 to 5 in version 0.22.\n",
      "  warnings.warn(CV_WARNING, FutureWarning)\n",
      "[Parallel(n_jobs=4)]: Using backend LokyBackend with 4 concurrent workers.\n"
     ]
    },
    {
     "name": "stdout",
     "output_type": "stream",
     "text": [
      "Fitting 3 folds for each of 8 candidates, totalling 24 fits\n"
     ]
    },
    {
     "name": "stderr",
     "output_type": "stream",
     "text": [
      "[Parallel(n_jobs=4)]: Done  24 out of  24 | elapsed:  3.3min finished\n"
     ]
    },
    {
     "name": "stdout",
     "output_type": "stream",
     "text": [
      "Params {'gamma': 0, 'max_depth': 3, 'n_estimators': 100, 'nthread': 8, 'subsample': 1.0}\n",
      "Score 0.7336236977971333\n"
     ]
    }
   ],
   "source": [
    "y_data = pd.read_table('data/labels/orange_small_train_churn.labels', sep='\\t', header=None)\n",
    "grid1 = gsearch(X_data, y_data)"
   ]
  },
  {
   "cell_type": "code",
   "execution_count": 4,
   "metadata": {},
   "outputs": [
    {
     "name": "stdout",
     "output_type": "stream",
     "text": [
      "Fitting 3 folds for each of 8 candidates, totalling 24 fits\n"
     ]
    },
    {
     "name": "stderr",
     "output_type": "stream",
     "text": [
      "C:\\Users\\Vaux Gomes\\AppData\\Local\\Programs\\Python\\Python36\\lib\\site-packages\\sklearn\\model_selection\\_split.py:2053: FutureWarning: You should specify a value for 'cv' instead of relying on the default value. The default value will change from 3 to 5 in version 0.22.\n",
      "  warnings.warn(CV_WARNING, FutureWarning)\n",
      "[Parallel(n_jobs=4)]: Using backend LokyBackend with 4 concurrent workers.\n",
      "[Parallel(n_jobs=4)]: Done  24 out of  24 | elapsed:  3.2min finished\n"
     ]
    },
    {
     "name": "stdout",
     "output_type": "stream",
     "text": [
      "Params {'gamma': 0.1, 'max_depth': 3, 'n_estimators': 100, 'nthread': 8, 'subsample': 0.9}\n",
      "Score 0.8242510937607236\n"
     ]
    }
   ],
   "source": [
    "y_data = pd.read_table('data/labels/orange_small_train_appetency.labels', sep='\\t', header=None)\n",
    "grid2 = gsearch(X_data, y_data)"
   ]
  },
  {
   "cell_type": "code",
   "execution_count": 5,
   "metadata": {},
   "outputs": [
    {
     "name": "stdout",
     "output_type": "stream",
     "text": [
      "Fitting 3 folds for each of 8 candidates, totalling 24 fits\n"
     ]
    },
    {
     "name": "stderr",
     "output_type": "stream",
     "text": [
      "C:\\Users\\Vaux Gomes\\AppData\\Local\\Programs\\Python\\Python36\\lib\\site-packages\\sklearn\\model_selection\\_split.py:2053: FutureWarning: You should specify a value for 'cv' instead of relying on the default value. The default value will change from 3 to 5 in version 0.22.\n",
      "  warnings.warn(CV_WARNING, FutureWarning)\n",
      "[Parallel(n_jobs=4)]: Using backend LokyBackend with 4 concurrent workers.\n",
      "[Parallel(n_jobs=4)]: Done  24 out of  24 | elapsed:  3.2min finished\n"
     ]
    },
    {
     "name": "stdout",
     "output_type": "stream",
     "text": [
      "Params {'gamma': 0.01, 'max_depth': 3, 'n_estimators': 100, 'nthread': 8, 'subsample': 1.0}\n",
      "Score 0.8652135577813339\n"
     ]
    }
   ],
   "source": [
    "y_data = pd.read_table('data/labels/orange_small_train_upselling.labels', sep='\\t', header=None)\n",
    "grid3 = gsearch(X_data, y_data)"
   ]
  }
 ],
 "metadata": {
  "kernelspec": {
   "display_name": "Python 3",
   "language": "python",
   "name": "python3"
  },
  "language_info": {
   "codemirror_mode": {
    "name": "ipython",
    "version": 3
   },
   "file_extension": ".py",
   "mimetype": "text/x-python",
   "name": "python",
   "nbconvert_exporter": "python",
   "pygments_lexer": "ipython3",
   "version": "3.6.7"
  }
 },
 "nbformat": 4,
 "nbformat_minor": 2
}
